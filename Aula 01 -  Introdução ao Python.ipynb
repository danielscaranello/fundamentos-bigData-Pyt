{
 "cells": [
  {
   "cell_type": "markdown",
   "id": "a314ebd4",
   "metadata": {},
   "source": [
    "# Primeira aula de Python"
   ]
  },
  {
   "cell_type": "code",
   "execution_count": null,
   "id": "e330adb0",
   "metadata": {},
   "outputs": [],
   "source": [
    "çaljfaldfjç"
   ]
  },
  {
   "cell_type": "markdown",
   "id": "b5600cf0",
   "metadata": {},
   "source": [
    "jfçasjfçalsjfaçldkj"
   ]
  },
  {
   "cell_type": "code",
   "execution_count": null,
   "id": "a514e8b0",
   "metadata": {},
   "outputs": [],
   "source": [
    "print(\"Hello, World\")\n"
   ]
  },
  {
   "cell_type": "code",
   "execution_count": null,
   "id": "7ff1c5f0",
   "metadata": {},
   "outputs": [],
   "source": [
    "\"Declarando variáveis\""
   ]
  },
  {
   "cell_type": "code",
   "execution_count": null,
   "id": "31f1f491",
   "metadata": {},
   "outputs": [],
   "source": [
    "a = 10\n",
    "b = \"Daniel\"\n",
    "c = 0.5\n",
    "d = [\"abelha\",\"Beterraba\",\"Churrasco\"]"
   ]
  },
  {
   "cell_type": "code",
   "execution_count": null,
   "id": "966bd710",
   "metadata": {},
   "outputs": [],
   "source": [
    "type(a)"
   ]
  },
  {
   "cell_type": "code",
   "execution_count": null,
   "id": "c5a70740",
   "metadata": {},
   "outputs": [],
   "source": [
    "print(a)"
   ]
  },
  {
   "cell_type": "code",
   "execution_count": null,
   "id": "3f4f0b7a",
   "metadata": {},
   "outputs": [],
   "source": [
    "type(b)"
   ]
  },
  {
   "cell_type": "code",
   "execution_count": null,
   "id": "9e295ccc",
   "metadata": {},
   "outputs": [],
   "source": [
    "type(c)"
   ]
  },
  {
   "cell_type": "code",
   "execution_count": null,
   "id": "d1661915",
   "metadata": {},
   "outputs": [],
   "source": [
    "type(d)"
   ]
  },
  {
   "cell_type": "code",
   "execution_count": null,
   "id": "dcd87f66",
   "metadata": {},
   "outputs": [],
   "source": [
    "num1 = 10\n",
    "num2 = 5\n",
    "\n",
    "soma = num1 + num2"
   ]
  },
  {
   "cell_type": "code",
   "execution_count": null,
   "id": "accd4bc9",
   "metadata": {},
   "outputs": [],
   "source": [
    "print(soma)"
   ]
  },
  {
   "cell_type": "code",
   "execution_count": null,
   "id": "d6e055f3",
   "metadata": {},
   "outputs": [],
   "source": [
    "n1 = 7\n",
    "n2 = 3\n",
    "\n",
    "subtração = n1 - n2"
   ]
  },
  {
   "cell_type": "code",
   "execution_count": null,
   "id": "48a3e020",
   "metadata": {},
   "outputs": [],
   "source": [
    "print(subtração)"
   ]
  },
  {
   "cell_type": "code",
   "execution_count": null,
   "id": "a9e8e2d6",
   "metadata": {},
   "outputs": [],
   "source": [
    "n1 = 4\n",
    "n2 = 3\n",
    "\n",
    "protudo = n1 * n2\n",
    "# isto é a multiplicação de n1 x n2"
   ]
  },
  {
   "cell_type": "code",
   "execution_count": null,
   "id": "a6d5d49f",
   "metadata": {},
   "outputs": [],
   "source": [
    "print(protudo)"
   ]
  },
  {
   "cell_type": "code",
   "execution_count": null,
   "id": "5d1f491b",
   "metadata": {},
   "outputs": [],
   "source": [
    "print(produto)"
   ]
  },
  {
   "cell_type": "code",
   "execution_count": null,
   "id": "19af33db",
   "metadata": {},
   "outputs": [],
   "source": [
    "# Exercício 03 - Crie um programa para receber dois valores e em seguida o produto entre eles. "
   ]
  },
  {
   "cell_type": "markdown",
   "id": "f8df0e15",
   "metadata": {},
   "source": [
    "# Exercício 10"
   ]
  },
  {
   "cell_type": "markdown",
   "id": "a6a755b9",
   "metadata": {},
   "source": [
    "Objetivo: metros --> centímetros\n",
    "\n",
    "1. Receber o valor\n",
    "2. Pegar o valor em metros e multiplicar por 100\n",
    "3. Exibir o resultado"
   ]
  },
  {
   "cell_type": "code",
   "execution_count": null,
   "id": "2808bc9b",
   "metadata": {},
   "outputs": [],
   "source": [
    "# receber o valor em metros\n",
    "metros = 100\n",
    "\n",
    "# Pegar o valor em metros e multiplicar por 100\n",
    "\n",
    "centimetros = metros * 100\n"
   ]
  },
  {
   "cell_type": "code",
   "execution_count": null,
   "id": "217e0709",
   "metadata": {},
   "outputs": [],
   "source": [
    "print(centimetros)"
   ]
  },
  {
   "cell_type": "markdown",
   "id": "9ccf6ba0",
   "metadata": {},
   "source": [
    "#exercício 11\n",
    "Faça um programa que calcule a área de um círculo"
   ]
  },
  {
   "cell_type": "code",
   "execution_count": null,
   "id": "646e5cb3",
   "metadata": {},
   "outputs": [],
   "source": [
    "raio = 20\n",
    "area_circulo = 3.14 * raio **2"
   ]
  },
  {
   "cell_type": "code",
   "execution_count": null,
   "id": "9fd490bb",
   "metadata": {},
   "outputs": [],
   "source": [
    "print(area_circulo)"
   ]
  },
  {
   "cell_type": "markdown",
   "id": "d19348f1",
   "metadata": {},
   "source": [
    "## Exercicio 12\n"
   ]
  },
  {
   "cell_type": "markdown",
   "id": "f8db746b",
   "metadata": {},
   "source": [
    "# Faça um programa que calcule a área de um quadrado, e em seguida mostre o dobro desta área para o usuário."
   ]
  },
  {
   "cell_type": "code",
   "execution_count": null,
   "id": "ec156126",
   "metadata": {},
   "outputs": [],
   "source": [
    "# 1. Receber o lado do quadrado\n",
    "\n",
    "lado = 10\n",
    "\n",
    "# 2. Calcular a área do quadrado\n",
    "\n",
    "area_quadrado = lado ** 2\n",
    "\n",
    "# 3. Exibir o dobro do resultado da área \n",
    "\n",
    "print(area_quadrado * 2)"
   ]
  },
  {
   "cell_type": "markdown",
   "id": "3adcaacb",
   "metadata": {},
   "source": [
    "### Exircicio 13\n",
    "##  Faça um Programa que pergunte quanto você ganha por hora e o número de horas trabalhadas no mês. Calcule o total do seu salário do referido mês."
   ]
  },
  {
   "cell_type": "markdown",
   "id": "d908f907",
   "metadata": {},
   "source": [
    "# 1. solicitar um valor ao usuario\n",
    "\n",
    "valor_hora = input('Informe o quanto você recebe por hora:')\n",
    "valor_hora = int(valor_hora)\n",
    "\n",
    "type(valor_hora)\n"
   ]
  },
  {
   "cell_type": "code",
   "execution_count": null,
   "id": "64b13e28",
   "metadata": {},
   "outputs": [],
   "source": [
    "type(valor_hora)"
   ]
  },
  {
   "cell_type": "markdown",
   "id": "a5fb39cf",
   "metadata": {},
   "source": [
    "Aula 02 - Estrutura Condicional"
   ]
  },
  {
   "cell_type": "code",
   "execution_count": null,
   "id": "60c898ef",
   "metadata": {},
   "outputs": [],
   "source": [
    "idade = 9\n",
    "\n",
    "if idade >= 18:\n",
    "    print(\"Maior de idade\")\n",
    "else:\n",
    "    print(\"Menor de idade\")"
   ]
  },
  {
   "cell_type": "raw",
   "id": "870bdd52",
   "metadata": {},
   "source": [
    "n = -0.1\n",
    "# Se o número for maior do que Zero\n",
    "\n",
    "if n > 0:\n",
    "    print(\"Positivo\")\n",
    "else:\n",
    "    print('Negativo')\n"
   ]
  },
  {
   "cell_type": "code",
   "execution_count": null,
   "id": "06d8b4a2",
   "metadata": {},
   "outputs": [],
   "source": [
    "# Verificar se o número é positivo, negativo ou nulo\n",
    "\n",
    "num = 1\n",
    "\n",
    "if num > 0:\n",
    "    print('positivo')\n",
    "elif num < 0:\n",
    "    print('Negativo')\n",
    "else:\n",
    "    print('Nulo')\n",
    "\n",
    "    \n"
   ]
  },
  {
   "cell_type": "markdown",
   "id": "ede0af5b",
   "metadata": {},
   "source": [
    "# Exercício 03 - Crie duas variáveis, \"nota1\" e \"nota2\", e atribua valores numéricos a elas.\n",
    "Verifique se a média das notas é maior ou igual a 7 e imprima \"Aprovado\" ou\n",
    "\"Reprovado\" de acordo com a condição."
   ]
  },
  {
   "cell_type": "code",
   "execution_count": 7,
   "id": "a752653e",
   "metadata": {},
   "outputs": [
    {
     "name": "stdout",
     "output_type": "stream",
     "text": [
      "Digite a nota 01: 10\n",
      "Digite a nota 02: 5\n",
      "Aprovado\n"
     ]
    }
   ],
   "source": [
    "nota_1 = input('Digite a nota 01: ')\n",
    "nota_2 = input('Digite a nota 02: ')\n",
    "\n",
    "nota_1 = float (nota_1)\n",
    "nota_2 = float (nota_2)\n",
    "\n",
    "media = (nota_1 + nota_2) / 2\n",
    "\n",
    "if media >= 7:\n",
    "    print('Aprovado')\n",
    "else:\n",
    "    print('reprovado')"
   ]
  },
  {
   "cell_type": "code",
   "execution_count": null,
   "id": "5bec8cd7",
   "metadata": {},
   "outputs": [],
   "source": []
  },
  {
   "cell_type": "code",
   "execution_count": 6,
   "id": "91b86b8b",
   "metadata": {},
   "outputs": [
    {
     "name": "stdout",
     "output_type": "stream",
     "text": [
      "36\n"
     ]
    }
   ],
   "source": [
    "print (nota_1)"
   ]
  },
  {
   "cell_type": "markdown",
   "id": "a821424e",
   "metadata": {},
   "source": [
    "# Exercício 04 - Crie uma variável chamada \"idade\" e atribua um valor inteiro a ela.\n",
    "Verifique se a idade está dentro do intervalo de 18 a 30 (inclusive) e imprima a\n",
    "mensagem \"Idade válida\" ou \"Idade inválida\" de acordo com a condição.\n"
   ]
  },
  {
   "cell_type": "markdown",
   "id": "1b0d99db",
   "metadata": {},
   "source": [
    "# 1. Receber a idade com valor inteiro\n",
    "# 2. Compare a idade com os valores 18 e 30\n",
    "# 3. Imprima uma mensagem \"Idade válida\" ou \"Idade Inválida\""
   ]
  },
  {
   "cell_type": "code",
   "execution_count": 14,
   "id": "7faab199",
   "metadata": {},
   "outputs": [
    {
     "name": "stdout",
     "output_type": "stream",
     "text": [
      "digite a idade: 17\n",
      "idade válida\n"
     ]
    }
   ],
   "source": [
    "idade = input('digite a idade: ')\n",
    "\n",
    "# converter em valor inteiro\n",
    "idade = int(idade)\n",
    "\n",
    "if idade >= idade and idade <=30:\n",
    "    print('idade válida')\n",
    "else:\n",
    "    print('idade inválida')\n"
   ]
  },
  {
   "cell_type": "code",
   "execution_count": 18,
   "id": "53b2736d",
   "metadata": {},
   "outputs": [
    {
     "data": {
      "text/plain": [
       "1.4285714285714286"
      ]
     },
     "execution_count": 18,
     "metadata": {},
     "output_type": "execute_result"
    }
   ],
   "source": []
  },
  {
   "cell_type": "markdown",
   "id": "1cd308d3",
   "metadata": {},
   "source": [
    "# Exercício 05 \n",
    "Crie uma variável chamada \"numero\" e atribua um valor inteiro a ela.\n",
    "Verifique se o número é par ou ímpar e imprima a mensagem correspondente."
   ]
  },
  {
   "cell_type": "code",
   "execution_count": 23,
   "id": "9c7da37c",
   "metadata": {},
   "outputs": [
    {
     "name": "stdout",
     "output_type": "stream",
     "text": [
      "Digite um número: 5\n",
      "impar\n"
     ]
    }
   ],
   "source": [
    "num = input('Digite um número: ')\n",
    "\n",
    "num = int(num)\n",
    "\n",
    "if (num % 2) == 0:\n",
    "    print('Par')\n",
    "else:\n",
    "    print('impar')"
   ]
  },
  {
   "cell_type": "markdown",
   "id": "1a7abc37",
   "metadata": {},
   "source": [
    "# Exercício 06 \n",
    "Crie uma variável chamada \"horario\" e atribua um valor inteiro\n",
    "representando a hora do dia (em formato 24 horas). Verifique se o horário está dentro\n",
    "do período da manhã (das 6h às 12h), da tarde (das 12h às 18h) ou da noite (das 18h\n",
    "às 23h) e imprima a mensagem correspondente.\n"
   ]
  },
  {
   "cell_type": "code",
   "execution_count": 36,
   "id": "7fa38a3f",
   "metadata": {},
   "outputs": [
    {
     "name": "stdout",
     "output_type": "stream",
     "text": [
      "Digite um número entre 0 e 24: 12\n",
      "período da tarde\n"
     ]
    }
   ],
   "source": [
    "horario = input('Digite um número entre 0 e 24: ')\n",
    "\n",
    "horario = int(horario)\n",
    "\n",
    "if horario >= 6 and horario < 12:\n",
    "    print('período da manhã')\n",
    "    \n",
    "elif horario >= 12 and horario < 18:\n",
    "    print('período da tarde')\n",
    "    \n",
    "else:\n",
    "    prin('período da noite')"
   ]
  },
  {
   "cell_type": "markdown",
   "id": "bebdf1c7",
   "metadata": {},
   "source": [
    "## Exercício 07 \n",
    "Crie uma variável chamada \"peso\" e atribua um valor numérico a ela.\n",
    "Verifique se o peso está dentro do intervalo de 50 a 100 (inclusive) e imprima a\n",
    "mensagem \"Peso válido\" ou \"Peso inválido\" de acordo com a condição"
   ]
  },
  {
   "cell_type": "code",
   "execution_count": 44,
   "id": "a4678f3f",
   "metadata": {},
   "outputs": [
    {
     "name": "stdout",
     "output_type": "stream",
     "text": [
      "Digite um número: 49\n",
      "inválido\n"
     ]
    }
   ],
   "source": [
    "peso = input('Digite um número: ' )\n",
    "peso = float(peso)\n",
    "\n",
    "if peso > 50 and peso <= 100:\n",
    "    print('Peso válido')\n",
    "else:\n",
    "    print('inválido')"
   ]
  },
  {
   "cell_type": "markdown",
   "id": "4bff8679",
   "metadata": {},
   "source": [
    "# Exercício 11  \n",
    "Faça um Programa que peça dois números e imprima o maior deles"
   ]
  },
  {
   "cell_type": "code",
   "execution_count": 51,
   "id": "879933f8",
   "metadata": {},
   "outputs": [
    {
     "name": "stdout",
     "output_type": "stream",
     "text": [
      "Digite o primeiro numero2\n",
      "Digite o segundo numero4\n",
      "o maior valor é 4.0\n"
     ]
    }
   ],
   "source": [
    "num1 = input('Digite o primeiro numero')\n",
    "num2 = input('Digite o segundo numero')\n",
    "\n",
    "num1 = float(num1)\n",
    "num2 = float(num2)\n",
    "\n",
    "if num1 > num2:\n",
    "    print(f'o maior valor é {num1}')\n",
    "else:\n",
    "    print(f'o maior valor é {num2}')"
   ]
  },
  {
   "cell_type": "markdown",
   "id": "627211ba",
   "metadata": {},
   "source": [
    "# Exercício 16 \n",
    "Faça um Programa que leia três números e mostre o maior deles.\n"
   ]
  },
  {
   "cell_type": "code",
   "execution_count": 58,
   "id": "f94c095a",
   "metadata": {},
   "outputs": [
    {
     "name": "stdout",
     "output_type": "stream",
     "text": [
      "Primeiro numero: 10\n",
      "Segundo numero: 10\n",
      "terceiro numero: 5\n",
      "5.0\n"
     ]
    }
   ],
   "source": [
    "num1 = input('Primeiro numero: ')\n",
    "num2 = input('Segundo numero: ')\n",
    "num3 = input('terceiro numero: ')\n",
    "\n",
    "num1 = float(num1)\n",
    "num2 = float(num2)\n",
    "num3 = float(num3)\n",
    "\n",
    "if num1 > num2 and num1 > num3:\n",
    "    print(num1)\n",
    "elif num2 > num1 and num2 >  num3:\n",
    "    print(num2)\n",
    "else:\n",
    "    print(num3)"
   ]
  }
 ],
 "metadata": {
  "kernelspec": {
   "display_name": "Python 3 (ipykernel)",
   "language": "python",
   "name": "python3"
  },
  "language_info": {
   "codemirror_mode": {
    "name": "ipython",
    "version": 3
   },
   "file_extension": ".py",
   "mimetype": "text/x-python",
   "name": "python",
   "nbconvert_exporter": "python",
   "pygments_lexer": "ipython3",
   "version": "3.10.9"
  }
 },
 "nbformat": 4,
 "nbformat_minor": 5
}
