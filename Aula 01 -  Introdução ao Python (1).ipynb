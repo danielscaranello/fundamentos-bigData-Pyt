{
 "cells": [
  {
   "cell_type": "markdown",
   "id": "a314ebd4",
   "metadata": {},
   "source": [
    "# Primeira aula de Python"
   ]
  },
  {
   "cell_type": "code",
   "execution_count": null,
   "id": "b01889f2",
   "metadata": {},
   "outputs": [],
   "source": []
  },
  {
   "cell_type": "code",
   "execution_count": null,
   "id": "e330adb0",
   "metadata": {},
   "outputs": [],
   "source": [
    "çaljfaldfjç"
   ]
  },
  {
   "cell_type": "markdown",
   "id": "b5600cf0",
   "metadata": {},
   "source": [
    "jfçasjfçalsjfaçldkj"
   ]
  },
  {
   "cell_type": "code",
   "execution_count": null,
   "id": "a514e8b0",
   "metadata": {},
   "outputs": [],
   "source": [
    "print(\"Hello, World\")\n"
   ]
  },
  {
   "cell_type": "code",
   "execution_count": null,
   "id": "7ff1c5f0",
   "metadata": {},
   "outputs": [],
   "source": [
    "\"Declarando variáveis\""
   ]
  },
  {
   "cell_type": "code",
   "execution_count": null,
   "id": "31f1f491",
   "metadata": {},
   "outputs": [],
   "source": [
    "a = 10\n",
    "b = \"Daniel\"\n",
    "c = 0.5\n",
    "d = [\"abelha\",\"Beterraba\",\"Churrasco\"]"
   ]
  },
  {
   "cell_type": "code",
   "execution_count": null,
   "id": "966bd710",
   "metadata": {},
   "outputs": [],
   "source": [
    "type(a)"
   ]
  },
  {
   "cell_type": "code",
   "execution_count": null,
   "id": "c5a70740",
   "metadata": {},
   "outputs": [],
   "source": [
    "print(a)"
   ]
  },
  {
   "cell_type": "code",
   "execution_count": null,
   "id": "3f4f0b7a",
   "metadata": {},
   "outputs": [],
   "source": [
    "type(b)"
   ]
  },
  {
   "cell_type": "code",
   "execution_count": null,
   "id": "9e295ccc",
   "metadata": {},
   "outputs": [],
   "source": [
    "type(c)"
   ]
  },
  {
   "cell_type": "code",
   "execution_count": null,
   "id": "d1661915",
   "metadata": {},
   "outputs": [],
   "source": [
    "type(d)"
   ]
  },
  {
   "cell_type": "code",
   "execution_count": null,
   "id": "dcd87f66",
   "metadata": {},
   "outputs": [],
   "source": [
    "num1 = 10\n",
    "num2 = 5\n",
    "\n",
    "soma = num1 + num2"
   ]
  },
  {
   "cell_type": "code",
   "execution_count": null,
   "id": "accd4bc9",
   "metadata": {},
   "outputs": [],
   "source": [
    "print(soma)"
   ]
  },
  {
   "cell_type": "code",
   "execution_count": null,
   "id": "d6e055f3",
   "metadata": {},
   "outputs": [],
   "source": [
    "n1 = 7\n",
    "n2 = 3\n",
    "\n",
    "subtração = n1 - n2"
   ]
  },
  {
   "cell_type": "code",
   "execution_count": null,
   "id": "48a3e020",
   "metadata": {},
   "outputs": [],
   "source": [
    "print(subtração)"
   ]
  },
  {
   "cell_type": "code",
   "execution_count": null,
   "id": "a9e8e2d6",
   "metadata": {},
   "outputs": [],
   "source": [
    "n1 = 4\n",
    "n2 = 3\n",
    "\n",
    "protudo = n1 * n2\n",
    "# isto é a multiplicação de n1 x n2"
   ]
  },
  {
   "cell_type": "code",
   "execution_count": null,
   "id": "a6d5d49f",
   "metadata": {},
   "outputs": [],
   "source": [
    "print(protudo)"
   ]
  },
  {
   "cell_type": "code",
   "execution_count": null,
   "id": "5d1f491b",
   "metadata": {},
   "outputs": [],
   "source": [
    "print(produto)"
   ]
  },
  {
   "cell_type": "code",
   "execution_count": null,
   "id": "19af33db",
   "metadata": {},
   "outputs": [],
   "source": [
    "# Exercício 03 - Crie um programa para receber dois valores e em seguida o produto entre eles. "
   ]
  },
  {
   "cell_type": "markdown",
   "id": "f8df0e15",
   "metadata": {},
   "source": [
    "# Exercício 10"
   ]
  },
  {
   "cell_type": "markdown",
   "id": "a6a755b9",
   "metadata": {},
   "source": [
    "Objetivo: metros --> centímetros\n",
    "\n",
    "1. Receber o valor\n",
    "2. Pegar o valor em metros e multiplicar por 100\n",
    "3. Exibir o resultado"
   ]
  },
  {
   "cell_type": "code",
   "execution_count": null,
   "id": "2808bc9b",
   "metadata": {},
   "outputs": [],
   "source": [
    "# receber o valor em metros\n",
    "metros = 100\n",
    "\n",
    "# Pegar o valor em metros e multiplicar por 100\n",
    "\n",
    "centimetros = metros * 100\n"
   ]
  },
  {
   "cell_type": "code",
   "execution_count": null,
   "id": "217e0709",
   "metadata": {},
   "outputs": [],
   "source": [
    "print(centimetros)"
   ]
  },
  {
   "cell_type": "markdown",
   "id": "9ccf6ba0",
   "metadata": {},
   "source": [
    "#exercício 11\n",
    "Faça um programa que calcule a área de um círculo"
   ]
  },
  {
   "cell_type": "code",
   "execution_count": null,
   "id": "646e5cb3",
   "metadata": {},
   "outputs": [],
   "source": [
    "raio = 20\n",
    "area_circulo = 3.14 * raio **2"
   ]
  },
  {
   "cell_type": "code",
   "execution_count": null,
   "id": "9fd490bb",
   "metadata": {},
   "outputs": [],
   "source": [
    "print(area_circulo)"
   ]
  },
  {
   "cell_type": "markdown",
   "id": "d19348f1",
   "metadata": {},
   "source": [
    "## Exercicio 12\n"
   ]
  },
  {
   "cell_type": "markdown",
   "id": "f8db746b",
   "metadata": {},
   "source": [
    "# Faça um programa que calcule a área de um quadrado, e em seguida mostre o dobro desta área para o usuário."
   ]
  },
  {
   "cell_type": "code",
   "execution_count": null,
   "id": "ec156126",
   "metadata": {},
   "outputs": [],
   "source": [
    "# 1. Receber o lado do quadrado\n",
    "\n",
    "lado = 10\n",
    "\n",
    "# 2. Calcular a área do quadrado\n",
    "\n",
    "area_quadrado = lado ** 2\n",
    "\n",
    "# 3. Exibir o dobro do resultado da área \n",
    "\n",
    "print(area_quadrado * 2)"
   ]
  },
  {
   "cell_type": "markdown",
   "id": "3adcaacb",
   "metadata": {},
   "source": [
    "### Exircicio 13\n",
    "##  Faça um Programa que pergunte quanto você ganha por hora e o número de horas trabalhadas no mês. Calcule o total do seu salário do referido mês."
   ]
  },
  {
   "cell_type": "markdown",
   "id": "d908f907",
   "metadata": {},
   "source": [
    "# 1. solicitar um valor ao usuario\n",
    "\n",
    "valor_hora = input('Informe o quanto você recebe por hora:')\n",
    "valor_hora = int(valor_hora)\n",
    "\n",
    "type(valor_hora)\n"
   ]
  },
  {
   "cell_type": "code",
   "execution_count": null,
   "id": "64b13e28",
   "metadata": {},
   "outputs": [],
   "source": [
    "type(valor_hora)"
   ]
  },
  {
   "cell_type": "markdown",
   "id": "a5fb39cf",
   "metadata": {},
   "source": [
    "Aula 02 - Estrutura Condicional"
   ]
  },
  {
   "cell_type": "code",
   "execution_count": null,
   "id": "60c898ef",
   "metadata": {},
   "outputs": [],
   "source": [
    "idade = 9\n",
    "\n",
    "if idade >= 18:\n",
    "    print(\"Maior de idade\")\n",
    "else:\n",
    "    print(\"Menor de idade\")"
   ]
  },
  {
   "cell_type": "raw",
   "id": "870bdd52",
   "metadata": {},
   "source": [
    "n = -0.1\n",
    "# Se o número for maior do que Zero\n",
    "\n",
    "if n > 0:\n",
    "    print(\"Positivo\")\n",
    "else:\n",
    "    print('Negativo')\n"
   ]
  },
  {
   "cell_type": "code",
   "execution_count": null,
   "id": "06d8b4a2",
   "metadata": {},
   "outputs": [],
   "source": [
    "# Verificar se o número é positivo, negativo ou nulo\n",
    "\n",
    "num = 1\n",
    "\n",
    "if num > 0:\n",
    "    print('positivo')\n",
    "elif num < 0:\n",
    "    print('Negativo')\n",
    "else:\n",
    "    print('Nulo')\n",
    "\n",
    "    \n"
   ]
  },
  {
   "cell_type": "markdown",
   "id": "ede0af5b",
   "metadata": {},
   "source": [
    "# Exercício 03 - Crie duas variáveis, \"nota1\" e \"nota2\", e atribua valores numéricos a elas.\n",
    "Verifique se a média das notas é maior ou igual a 7 e imprima \"Aprovado\" ou\n",
    "\"Reprovado\" de acordo com a condição."
   ]
  },
  {
   "cell_type": "code",
   "execution_count": null,
   "id": "a752653e",
   "metadata": {},
   "outputs": [],
   "source": [
    "nota_1 = input('Digite a nota 01: ')\n",
    "nota_2 = input('Digite a nota 02: ')\n",
    "\n",
    "nota_1 = float (nota_1)\n",
    "nota_2 = float (nota_2)\n",
    "\n",
    "media = (nota_1 + nota_2) / 2\n",
    "\n",
    "if media >= 7:\n",
    "    print('Aprovado')\n",
    "else:\n",
    "    print('reprovado')"
   ]
  },
  {
   "cell_type": "code",
   "execution_count": null,
   "id": "5bec8cd7",
   "metadata": {},
   "outputs": [],
   "source": []
  },
  {
   "cell_type": "code",
   "execution_count": null,
   "id": "91b86b8b",
   "metadata": {},
   "outputs": [],
   "source": [
    "print (nota_1)"
   ]
  },
  {
   "cell_type": "markdown",
   "id": "a821424e",
   "metadata": {},
   "source": [
    "# Exercício 04 - Crie uma variável chamada \"idade\" e atribua um valor inteiro a ela.\n",
    "Verifique se a idade está dentro do intervalo de 18 a 30 (inclusive) e imprima a\n",
    "mensagem \"Idade válida\" ou \"Idade inválida\" de acordo com a condição.\n"
   ]
  },
  {
   "cell_type": "markdown",
   "id": "1b0d99db",
   "metadata": {},
   "source": [
    "# 1. Receber a idade com valor inteiro\n",
    "# 2. Compare a idade com os valores 18 e 30\n",
    "# 3. Imprima uma mensagem \"Idade válida\" ou \"Idade Inválida\""
   ]
  },
  {
   "cell_type": "code",
   "execution_count": null,
   "id": "7faab199",
   "metadata": {},
   "outputs": [],
   "source": [
    "idade = input('digite a idade: ')\n",
    "\n",
    "# converter em valor inteiro\n",
    "idade = int(idade)\n",
    "\n",
    "if idade >= idade and idade <=30:\n",
    "    print('idade válida')\n",
    "else:\n",
    "    print('idade inválida')\n"
   ]
  },
  {
   "cell_type": "code",
   "execution_count": null,
   "id": "53b2736d",
   "metadata": {},
   "outputs": [],
   "source": []
  },
  {
   "cell_type": "markdown",
   "id": "1cd308d3",
   "metadata": {},
   "source": [
    "# Exercício 05 \n",
    "Crie uma variável chamada \"numero\" e atribua um valor inteiro a ela.\n",
    "Verifique se o número é par ou ímpar e imprima a mensagem correspondente."
   ]
  },
  {
   "cell_type": "code",
   "execution_count": null,
   "id": "9c7da37c",
   "metadata": {},
   "outputs": [],
   "source": [
    "num = input('Digite um número: ')\n",
    "\n",
    "num = int(num)\n",
    "\n",
    "if (num % 2) == 0:\n",
    "    print('Par')\n",
    "else:\n",
    "    print('impar')"
   ]
  },
  {
   "cell_type": "markdown",
   "id": "1a7abc37",
   "metadata": {},
   "source": [
    "# Exercício 06 \n",
    "Crie uma variável chamada \"horario\" e atribua um valor inteiro\n",
    "representando a hora do dia (em formato 24 horas). Verifique se o horário está dentro\n",
    "do período da manhã (das 6h às 12h), da tarde (das 12h às 18h) ou da noite (das 18h\n",
    "às 23h) e imprima a mensagem correspondente.\n"
   ]
  },
  {
   "cell_type": "code",
   "execution_count": null,
   "id": "7fa38a3f",
   "metadata": {},
   "outputs": [],
   "source": [
    "horario = input('Digite um número entre 0 e 24: ')\n",
    "\n",
    "horario = int(horario)\n",
    "\n",
    "if horario >= 6 and horario < 12:\n",
    "    print('período da manhã')\n",
    "    \n",
    "elif horario >= 12 and horario < 18:\n",
    "    print('período da tarde')\n",
    "    \n",
    "else:\n",
    "    prin('período da noite')"
   ]
  },
  {
   "cell_type": "markdown",
   "id": "bebdf1c7",
   "metadata": {},
   "source": [
    "## Exercício 07 \n",
    "Crie uma variável chamada \"peso\" e atribua um valor numérico a ela.\n",
    "Verifique se o peso está dentro do intervalo de 50 a 100 (inclusive) e imprima a\n",
    "mensagem \"Peso válido\" ou \"Peso inválido\" de acordo com a condição"
   ]
  },
  {
   "cell_type": "code",
   "execution_count": null,
   "id": "a4678f3f",
   "metadata": {},
   "outputs": [],
   "source": [
    "peso = input('Digite um número: ' )\n",
    "peso = float(peso)\n",
    "\n",
    "if peso > 50 and peso <= 100:\n",
    "    print('Peso válido')\n",
    "else:\n",
    "    print('inválido')"
   ]
  },
  {
   "cell_type": "markdown",
   "id": "4bff8679",
   "metadata": {},
   "source": [
    "# Exercício 11  \n",
    "Faça um Programa que peça dois números e imprima o maior deles"
   ]
  },
  {
   "cell_type": "code",
   "execution_count": null,
   "id": "879933f8",
   "metadata": {},
   "outputs": [],
   "source": [
    "num1 = input('Digite o primeiro numero')\n",
    "num2 = input('Digite o segundo numero')\n",
    "\n",
    "num1 = float(num1)\n",
    "num2 = float(num2)\n",
    "\n",
    "if num1 > num2:\n",
    "    print(f'o maior valor é {num1}')\n",
    "else:\n",
    "    print(f'o maior valor é {num2}')"
   ]
  },
  {
   "cell_type": "markdown",
   "id": "627211ba",
   "metadata": {},
   "source": [
    "# Exercício 16 \n",
    "Faça um Programa que leia três números e mostre o maior deles.\n"
   ]
  },
  {
   "cell_type": "code",
   "execution_count": null,
   "id": "f94c095a",
   "metadata": {},
   "outputs": [],
   "source": [
    "num1 = input('Primeiro numero: ')\n",
    "num2 = input('Segundo numero: ')\n",
    "num3 = input('terceiro numero: ')\n",
    "\n",
    "num1 = float(num1)\n",
    "num2 = float(num2)\n",
    "num3 = float(num3)\n",
    "\n",
    "if num1 > num2 and num1 > num3:\n",
    "    print(num1)\n",
    "elif num2 > num1 and num2 >  num3:\n",
    "    print(num2)\n",
    "else:\n",
    "    print(num3)"
   ]
  },
  {
   "cell_type": "markdown",
   "id": "7c03fdc5",
   "metadata": {},
   "source": [
    "Exercício 15\n",
    "\n",
    "Faça um programa para a leitura de duas notas parciais de um aluno. O \n",
    "programa deve calcular a média alcançada por aluno e apresentar:\n",
    "• A mensagem \"Aprovado\", se a média alcançada for maior ou igual a sete;\n",
    "• A mensagem \"Reprovado\", se a média for menor do que sete;\n",
    "• A mensagem \"Aprovado com Distinção\", se a média for igual a dez.\n"
   ]
  },
  {
   "cell_type": "markdown",
   "id": "554fb86f",
   "metadata": {},
   "source": [
    "1. Criar as variáveis nota1 e nota2\n",
    "2. Criar a variável média e calculá-la\n",
    "3. Construir a estrutura condicional if para analisar a méida\n"
   ]
  },
  {
   "cell_type": "code",
   "execution_count": null,
   "id": "3b6ba1d5",
   "metadata": {},
   "outputs": [],
   "source": [
    "# 1. Criar as variáveis Nota 01 e Nota 02\n",
    "\n",
    "nota_1 = float(input('Digite a nota 01: '))\n",
    "nota_2 = float(input('Digite a nota 02: '))\n",
    "\n",
    "# 2. Criar a variável média e calculá-la\n",
    "\n",
    "media = (nota_1 + nota_2) / 2\n",
    "\n",
    "# 3. Construir a estrutura condicional if para analisar a média\n",
    "\n",
    "if media >= 7 and media <= 9:\n",
    "    print ('Aprovado')\n",
    "elif media < 7:\n",
    "    print ('Reprovado')\n",
    "elif media == 10:\n",
    "    print ('Aprovado com Distinção')\n",
    "\n",
    "\n",
    "\n",
    "        "
   ]
  },
  {
   "cell_type": "markdown",
   "id": "a8a88c37",
   "metadata": {},
   "source": [
    "### Exercício 17\n",
    "\n",
    "Faça um Programa que leia três números e mostre o maior e o menor \n",
    "deles."
   ]
  },
  {
   "cell_type": "markdown",
   "id": "3d5a11ae",
   "metadata": {},
   "source": [
    "1. Criar as variáveis num1, num2 e num3\n",
    "2. Aplicar o conversor\n",
    "3. Construir a estrutura condicional"
   ]
  },
  {
   "cell_type": "code",
   "execution_count": null,
   "id": "2d3c62f2",
   "metadata": {},
   "outputs": [],
   "source": [
    "# 1. Criar as variáveis\n",
    "\n",
    "num1 = float(input( 'Digite o 1º número : '))\n",
    "num2 = float(input( 'Digite o 2º número : '))\n",
    "num3 = float(input( 'Digite o 3º número : '))\n",
    "\n",
    "if num1 > num2 and num1 > num3:\n",
    "    print( num1)\n",
    "elif num2 > num1 and num2 > num3:\n",
    "    print( num2)\n",
    "else: \n",
    "    print( num3)\n",
    "    \n",
    "if num1 < num2 and num1 < num3:\n",
    "    print( num1)\n",
    "elif num2 < num1 and num2 < num3:\n",
    "    print( num2)\n",
    "else :\n",
    "    print( num3)"
   ]
  },
  {
   "cell_type": "markdown",
   "id": "3ba58b88",
   "metadata": {},
   "source": [
    "# Exercício resolvido pelo professor"
   ]
  },
  {
   "cell_type": "code",
   "execution_count": null,
   "id": "af8e612c",
   "metadata": {},
   "outputs": [],
   "source": [
    "num1 = float ( input ( 'Digite o primeiro valor: '))\n",
    "num2 = float ( input ( 'Digite o segundo valor: '))\n",
    "num3 = float ( input ( 'Digite o terceiro valor: '))\n",
    "\n",
    "if num1 > num2 and num1 >  num3:\n",
    "    \n",
    "    if num2 < num3:\n",
    "        print ( f' O maior valor é {num1} e o menor valor é {num2}')\n",
    "\n",
    "    else:\n",
    "            print ( f' O maior valor é {num1} e o menor valor é {num3}')\n",
    "                \n",
    "elif num2 > num1 and num2 > num3:\n",
    "        \n",
    "    if num1 < num3:\n",
    "        print ( f' O maior valor é {num2} e o menor valor é {num1}')\n",
    "        \n",
    "    else:\n",
    "        print ( f' O maior valor é {num2} e o menor valor é {num3}')\n",
    "        \n",
    "elif num3 > num1 and num3 > num2:\n",
    "    \n",
    "    if num1 < num2:\n",
    "        print ( f' O maior valor é {num3} e o menor valor é {num1}')\n",
    "        \n",
    "    else:\n",
    "        print ( f' O maior valor é {num3} e o menor valor é {num2}')\n",
    "        \n",
    "        \n",
    "        "
   ]
  },
  {
   "cell_type": "code",
   "execution_count": null,
   "id": "aa18c794",
   "metadata": {},
   "outputs": [],
   "source": []
  },
  {
   "cell_type": "markdown",
   "id": "5560478b",
   "metadata": {},
   "source": [
    "### Exercício 18 \n",
    "\n",
    "Faça um programa que pergunte o preço de três produtos e informe qual \n",
    "produto você deve comprar, sabendo que a decisão é sempre pelo mais barato."
   ]
  },
  {
   "cell_type": "markdown",
   "id": "3114aca4",
   "metadata": {},
   "source": [
    "1. Criar as variáveis produto\n",
    "2. Aplique o float\n",
    "3. Construa a estrura condicional\n"
   ]
  },
  {
   "cell_type": "code",
   "execution_count": null,
   "id": "362bb111",
   "metadata": {},
   "outputs": [],
   "source": [
    "produto_1 = float ( input ( 'Digite o primeiro preço: '))\n",
    "produto_2 = float ( input ( 'Digite o segundo preço: '))\n",
    "produto_3 = float ( input ( 'Digite o terceiro preço: '))\n",
    "\n",
    "if produto_1 < produto_2 and produto_1 < produto_3:\n",
    "    print ( 'Deve comprar Produto_1' )\n",
    "    \n",
    "elif produto_2 < produto_1 and produto_2 < produto_3:\n",
    "    print ( 'Deve comprar Produto_2' )\n",
    "    \n",
    "else:\n",
    "    print ( 'Deve comprar Produtpo_3' )\n"
   ]
  },
  {
   "cell_type": "markdown",
   "id": "e1e31c4d",
   "metadata": {},
   "source": [
    "### Exercício 19 \n",
    "\n",
    "Faça um Programa que leia três números e mostre-os em ordem \n",
    "decrescente."
   ]
  },
  {
   "cell_type": "markdown",
   "id": "c32be180",
   "metadata": {},
   "source": [
    "1. Criar variáveis número\n",
    "2. Aplicar float\n",
    "3. Costruir a estrutura condicional"
   ]
  },
  {
   "cell_type": "code",
   "execution_count": 2,
   "id": "a3ff046b",
   "metadata": {},
   "outputs": [
    {
     "name": "stdout",
     "output_type": "stream",
     "text": [
      "Primeiro Nº: 1\n",
      "Segundo Nº: 2\n",
      "Terceiro Nº: 3\n",
      "3.0 2.0 1.0\n"
     ]
    }
   ],
   "source": [
    "num1 = float ( input (  'Primeiro Nº: '))\n",
    "num2 = float ( input (  'Segundo Nº: '))\n",
    "num3 = float ( input (  'Terceiro Nº: '))\n",
    "\n",
    "if num1 > num2 and num1 > num3:     \n",
    "    \n",
    "    if num2 > num3:\n",
    "        print ( num1, num2, num3 )\n",
    "    else:\n",
    "        print( num1, num3, num2 )\n",
    "\n",
    "        \n",
    "elif num2 > num1 and num2 > num3:\n",
    "    \n",
    "    if num1 > num3:\n",
    "        print ( num2, num1, num3 )    \n",
    "    else:            \n",
    "        print ( num2, num3, num1 )\n",
    "            \n",
    "elif num3 > num1 and num3 > num2:\n",
    "    \n",
    "    if num2 > num1:\n",
    "        print ( num3, num2, num1 )\n",
    "    else:\n",
    "        print ( num3, num1, num2 )      "
   ]
  },
  {
   "cell_type": "markdown",
   "id": "853ff36c",
   "metadata": {},
   "source": [
    "### Exercício 20 \n",
    "\n",
    "Faça um Programa que pergunte em que turno você estuda. Peça para \n",
    "digitar M-matutino ou V-Vespertino ou N- Noturno. Imprima a mensagem \"Bom Dia!\", \n",
    "\"Boa Tarde!\" ou \"Boa Noite!\" ou \"Valor Inválido!\", conforme o caso"
   ]
  },
  {
   "cell_type": "code",
   "execution_count": 5,
   "id": "69716966",
   "metadata": {},
   "outputs": [
    {
     "name": "stdout",
     "output_type": "stream",
     "text": [
      "Qual turno você estuda?n\n",
      "Valor Inválido\n"
     ]
    }
   ],
   "source": [
    "# 1. Declarar as viriáveis\n",
    "turno = input ( 'Qual turno você estuda?')\n",
    "\n",
    "# 2. Montar a estrutura condicional If para avaliar o imput\n",
    "\n",
    "if turno == 'm':\n",
    "    print ( 'Bom dia!' )\n",
    "    \n",
    "elif turno == 'v':\n",
    "    print ( 'Boa tarde')\n",
    "else:\n",
    "    print ( 'Valor Inválido')\n",
    "    "
   ]
  },
  {
   "cell_type": "markdown",
   "id": "8dfcae76",
   "metadata": {},
   "source": [
    "### Exercício 21 \n",
    "\n",
    "As Organizações Tabajara resolveram dar um aumento de salário aos \n",
    "seus colaboradores e lhe contaram para desenvolver o programa que calculará os \n",
    "reajustes. Faça um programa que recebe o salário de um colaborador e o reajuste \n",
    "segundo o seguinte critério, baseado no salário atual: \n",
    "    \n",
    "-salários até R$ 280,00 (incluindo) : aumento de 20%\n",
    "\n",
    "-salários entre R$ 280,00 e R$ 700,00 : aumento de 15%\n",
    "\n",
    "-salários entre R$ 700,00 e R$ 1500,00 : aumento de 10%\n",
    "\n",
    "-salários de R$ 1500,00 em diante : aumento de 5% \n",
    "    \n",
    "Após o aumento ser realizado, informe na tela:\n",
    "salário antes do reajuste;\n",
    "percentual de aumento aplicado;\n",
    "valor do aumento;\n",
    "novo salário, após o aumento."
   ]
  },
  {
   "cell_type": "markdown",
   "id": "1e7cc43e",
   "metadata": {},
   "source": [
    "## Desafio!\n",
    "\n",
    "Crie um código para classificar 5 números. O usuário pode escolher em classificar os valores na ordem crescente ou decrescente.\n",
    "\n",
    "Obs: Utilize apenas a estrutura condiconal if\n",
    "\n",
    "Publique no Github e faça uma postagem no linkedin marcando @senai suíço e seu professor Boca aberta.\n"
   ]
  },
  {
   "cell_type": "markdown",
   "id": "58b54222",
   "metadata": {},
   "source": [
    "N1 > N2 and N1 > N3 and N1 > N4 and N1 > N5\n",
    "\n",
    "     N2 > N3 and N2 > N4 and N2 > N5\n",
    "     \n",
    "          N3 > N4 and N3 > N5 \n",
    "     \n",
    "               N4 > N5\n",
    "               \n",
    "       print(N1,N2,N3,N4,N5)\n",
    "       \n",
    "           SENÃO\n",
    "           \n",
    "       print(N1,N2,N3,N5,N4)\n",
    "       \n",
    "       N4 > N3 AND N4 > N5\n",
    "       \n",
    "            N3 > N5\n",
    "            \n",
    "       print(N1,N2,N4,N3,N5\n",
    "       \n",
    "       SENÃO\n",
    "       \n",
    "       print (N1,N2,N4,N5,N3)\n",
    "           \n",
    "       \n",
    "     \n",
    "     \n",
    "\n",
    "      "
   ]
  }
 ],
 "metadata": {
  "kernelspec": {
   "display_name": "Python 3 (ipykernel)",
   "language": "python",
   "name": "python3"
  },
  "language_info": {
   "codemirror_mode": {
    "name": "ipython",
    "version": 3
   },
   "file_extension": ".py",
   "mimetype": "text/x-python",
   "name": "python",
   "nbconvert_exporter": "python",
   "pygments_lexer": "ipython3",
   "version": "3.10.9"
  }
 },
 "nbformat": 4,
 "nbformat_minor": 5
}
